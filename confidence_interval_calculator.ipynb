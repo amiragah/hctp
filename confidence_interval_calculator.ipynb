{
 "cells": [
  {
   "cell_type": "code",
   "execution_count": 1,
   "id": "37e7fa7a",
   "metadata": {},
   "outputs": [],
   "source": [
    "# confidence_interval_calculator\n",
    "import numpy as np\n",
    "import pandas as pd\n",
    "from scipy import stats"
   ]
  },
  {
   "cell_type": "code",
   "execution_count": 2,
   "id": "d14d8dd4",
   "metadata": {},
   "outputs": [],
   "source": [
    "def calculate_win_rate_ci(wins, total, confidence=0.95):\n",
    "    p = wins / total\n",
    "    z = stats.norm.ppf(1 - (1 - confidence) / 2)  # z-score\n",
    "    se = np.sqrt(p * (1 - p) / total)\n",
    "    ci_low = p - z * se\n",
    "    ci_high = p + z * se\n",
    "    return p * 100, ci_low * 100, ci_high * 100"
   ]
  },
  {
   "cell_type": "code",
   "execution_count": 6,
   "id": "f483bc93",
   "metadata": {},
   "outputs": [],
   "source": [
    "# GBPUSD Without (Standalone)\n",
    "wins_gbp_without = 74  ### before deep model\n",
    "total_gbp_without = 114\n",
    "win_rate_gbp_without, ci_low_gbp_without, ci_high_gbp_without = calculate_win_rate_ci(wins_gbp_without, total_gbp_without)\n"
   ]
  },
  {
   "cell_type": "code",
   "execution_count": 7,
   "id": "e8ceae0c",
   "metadata": {},
   "outputs": [],
   "source": [
    "# GBPUSD Hybrid (HCTP)\n",
    "wins_gbp_hybrid = 40  # After using deep model\n",
    "total_gbp_hybrid = 53\n",
    "win_rate_gbp_hybrid, ci_low_gbp_hybrid, ci_high_gbp_hybrid = calculate_win_rate_ci(wins_gbp_hybrid, total_gbp_hybrid)\n"
   ]
  },
  {
   "cell_type": "code",
   "execution_count": 8,
   "id": "f720e72d",
   "metadata": {},
   "outputs": [],
   "source": [
    "# EURUSD Without (Standalone)\n",
    "wins_eur_without = 40  ### before deep model\n",
    "total_eur_without = 60\n",
    "win_rate_eur_without, ci_low_eur_without, ci_high_eur_without = calculate_win_rate_ci(wins_eur_without, total_eur_without)"
   ]
  },
  {
   "cell_type": "code",
   "execution_count": 9,
   "id": "f5d76d79",
   "metadata": {},
   "outputs": [],
   "source": [
    "# EURUSD Hybrid (HCTP)\n",
    "wins_eur_hybrid = 22  # After using deep model\n",
    "total_eur_hybrid = 29\n",
    "win_rate_eur_hybrid, ci_low_eur_hybrid, ci_high_eur_hybrid = calculate_win_rate_ci(wins_eur_hybrid, total_eur_hybrid)"
   ]
  },
  {
   "cell_type": "code",
   "execution_count": 10,
   "id": "aa478f2e",
   "metadata": {},
   "outputs": [
    {
     "name": "stdout",
     "output_type": "stream",
     "text": [
      "=== GBPUSD Standalone (Without) ===\n",
      "Win Rate: 64.9%\n",
      "95% CI: [56.2%, 73.7%]\n",
      "\n",
      "=== GBPUSD Hybrid (HCTP) ===\n",
      "Win Rate: 75.5%\n",
      "95% CI: [63.9%, 87.1%]\n",
      "\n",
      "=== EURUSD Standalone (Without) ===\n",
      "Win Rate: 66.7%\n",
      "95% CI: [54.7%, 78.6%]\n",
      "\n",
      "=== EURUSD Hybrid (HCTP) ===\n",
      "Win Rate: 75.9%\n",
      "95% CI: [60.3%, 91.4%]\n"
     ]
    }
   ],
   "source": [
    "print(\"=== GBPUSD Standalone (Without) ===\")\n",
    "print(f\"Win Rate: {win_rate_gbp_without:.1f}%\")\n",
    "print(f\"95% CI: [{ci_low_gbp_without:.1f}%, {ci_high_gbp_without:.1f}%]\\n\")\n",
    "\n",
    "print(\"=== GBPUSD Hybrid (HCTP) ===\")\n",
    "print(f\"Win Rate: {win_rate_gbp_hybrid:.1f}%\")\n",
    "print(f\"95% CI: [{ci_low_gbp_hybrid:.1f}%, {ci_high_gbp_hybrid:.1f}%]\\n\")\n",
    "\n",
    "print(\"=== EURUSD Standalone (Without) ===\")\n",
    "print(f\"Win Rate: {win_rate_eur_without:.1f}%\")\n",
    "print(f\"95% CI: [{ci_low_eur_without:.1f}%, {ci_high_eur_without:.1f}%]\\n\")\n",
    "\n",
    "print(\"=== EURUSD Hybrid (HCTP) ===\")\n",
    "print(f\"Win Rate: {win_rate_eur_hybrid:.1f}%\")\n",
    "print(f\"95% CI: [{ci_low_eur_hybrid:.1f}%, {ci_high_eur_hybrid:.1f}%]\")"
   ]
  },
  {
   "cell_type": "code",
   "execution_count": null,
   "id": "258a70d3",
   "metadata": {},
   "outputs": [],
   "source": []
  },
  {
   "cell_type": "code",
   "execution_count": null,
   "id": "af5ffa10",
   "metadata": {},
   "outputs": [],
   "source": []
  }
 ],
 "metadata": {
  "kernelspec": {
   "display_name": "Python 3 (ipykernel)",
   "language": "python",
   "name": "python3"
  },
  "language_info": {
   "codemirror_mode": {
    "name": "ipython",
    "version": 3
   },
   "file_extension": ".py",
   "mimetype": "text/x-python",
   "name": "python",
   "nbconvert_exporter": "python",
   "pygments_lexer": "ipython3",
   "version": "3.11.5"
  }
 },
 "nbformat": 4,
 "nbformat_minor": 5
}
